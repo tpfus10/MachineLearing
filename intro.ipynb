{
 "cells": [
  {
   "cell_type": "markdown",
   "metadata": {},
   "source": [
    "*  [pandas] (https://pandas.pydata.org/)\n",
    "*  [scikit-learn] (https://scikit-learn.org/stable/index.html)\n",
    "*  [matplotlib] (https://matplotlib.org/)\n",
    "*  [mglearn] (https://github.com/amueller/mglearn)"
   ]
  },
  {
   "cell_type": "code",
   "execution_count": null,
   "metadata": {},
   "outputs": [],
   "source": [
    "##part1: 파이썬, vsCode, extension 설치/오작동 확인(pip, path)/업데이트(pip install -U pandas)\n",
    "##part2: 세계관 파악(프론트 or 백엔드)\n",
    "##part3: 1순위+2순위 할 줄 안다 3순위는 듣고 이해할 줄 안다"
   ]
  },
  {
   "cell_type": "code",
   "execution_count": 5,
   "metadata": {},
   "outputs": [
    {
     "data": {
      "text/plain": [
       "('2.2.2', '1.26.4', '3.8.4', '1.4.2')"
      ]
     },
     "execution_count": 5,
     "metadata": {},
     "output_type": "execute_result"
    }
   ],
   "source": [
    "(pd.__version__,\n",
    " np.__version__,\n",
    " matplotlib.__version__,\n",
    " sklearn.__version__)"
   ]
  },
  {
   "cell_type": "markdown",
   "metadata": {},
   "source": [
    "## 붓꽃 품종 분류"
   ]
  },
  {
   "cell_type": "markdown",
   "metadata": {},
   "source": [
    ">분류: 꽃잎+꽃받침 => 품종 (컬럼 세 개를 확보하는 것에만 집중)"
   ]
  },
  {
   "cell_type": "code",
   "execution_count": 14,
   "metadata": {},
   "outputs": [],
   "source": [
    "#모든 임포트는 가장 상단에 두기(다른 사람이 내가 어떤 라이브러리를 사용했는지 이해하기 쉽도록)\n",
    "import pandas as pd\n",
    "import numpy as np\n",
    "import matplotlib\n",
    "from sklearn.datasets import load_iris\n",
    "from sklearn.model_selection import train_test_split"
   ]
  },
  {
   "cell_type": "markdown",
   "metadata": {},
   "source": [
    "## 데이터 적재"
   ]
  },
  {
   "cell_type": "code",
   "execution_count": 13,
   "metadata": {},
   "outputs": [],
   "source": [
    "iris = load_iris()"
   ]
  },
  {
   "cell_type": "markdown",
   "metadata": {},
   "source": [
    "## 살펴보기\n",
    "- size (열/행)\n",
    "- 관측자료\n",
    "- 타입(df.info())"
   ]
  },
  {
   "cell_type": "code",
   "execution_count": null,
   "metadata": {},
   "outputs": [],
   "source": [
    "#데이터 구조분해\n",
    "X_train, X_test, Y_train, Y_test = train_test_split(iris['data'], iris['target'], random_state=42)"
   ]
  },
  {
   "cell_type": "markdown",
   "metadata": {},
   "source": [
    "## 학습 및 모델"
   ]
  },
  {
   "cell_type": "code",
   "execution_count": null,
   "metadata": {},
   "outputs": [],
   "source": []
  },
  {
   "cell_type": "code",
   "execution_count": null,
   "metadata": {},
   "outputs": [],
   "source": []
  },
  {
   "cell_type": "markdown",
   "metadata": {},
   "source": [
    "## 평가 및 검증"
   ]
  },
  {
   "cell_type": "code",
   "execution_count": null,
   "metadata": {},
   "outputs": [],
   "source": []
  },
  {
   "cell_type": "code",
   "execution_count": null,
   "metadata": {},
   "outputs": [],
   "source": []
  }
 ],
 "metadata": {
  "kernelspec": {
   "display_name": "Python 3",
   "language": "python",
   "name": "python3"
  },
  "language_info": {
   "codemirror_mode": {
    "name": "ipython",
    "version": 3
   },
   "file_extension": ".py",
   "mimetype": "text/x-python",
   "name": "python",
   "nbconvert_exporter": "python",
   "pygments_lexer": "ipython3",
   "version": "3.9.13"
  }
 },
 "nbformat": 4,
 "nbformat_minor": 2
}
